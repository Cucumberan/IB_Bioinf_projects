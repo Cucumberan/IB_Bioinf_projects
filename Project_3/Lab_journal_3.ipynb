{
  "cells": [
    {
      "cell_type": "markdown",
      "metadata": {
        "id": "b02DRc8CPJG8"
      },
      "source": [
        "#  E.coli outbreak investigation#\n",
        "\n",
        "**Project 3.**\\\n",
        "Lab journal by Anna Ogurtsova\n",
        "\n",
        "---\n"
      ]
    },
    {
      "cell_type": "markdown",
      "metadata": {
        "id": "i8uW06OHPtMc"
      },
      "source": [
        "### Step 0. Environement and project directory creation\n",
        "\n"
      ]
    },
    {
      "cell_type": "code",
      "execution_count": null,
      "metadata": {},
      "outputs": [],
      "source": [
        "!mkdir project_3\n",
        "!cd project_3\n",
        "!mamba create -n project_3 -c bioconda fastqc bwa samtools igv varscan prokka spades quast\n",
        "!mamba activate project_3"
      ]
    },
    {
      "cell_type": "markdown",
      "metadata": {},
      "source": [
        "### Step 1.  Exploring the dataset"
      ]
    },
    {
      "cell_type": "markdown",
      "metadata": {},
      "source": [
        "For this project, we provide three libraries from the TY2482 sample with the following insert sizes and orientation:\n",
        "\n",
        "● SRR292678 - paired end, insert size 470 bp ([forward reads](https://d28rh4a8wq0iu5.cloudfront.net/bioinfo/SRR292678sub_S1_L001_R1_001.fastq.gz), [reverse reads](https://d28rh4a8wq0iu5.cloudfront.net/bioinfo/SRR292678sub_S1_L001_R1_001.fastq.gz), 400 Mb each)\n",
        "\n",
        "● SRR292862 – mate pair, insert size 2 kb, (forward reads, reverse reads, 200 Mb each)\n",
        "\n",
        "● SRR292770 – mate pair, insert size 6 kb, (forward reads, reverse reads, 200 Mb each)"
      ]
    },
    {
      "cell_type": "markdown",
      "metadata": {
        "id": "ppP_kIR2Pt8o"
      },
      "source": [
        "After running Snakemake file to generate FastQC report on all 6 of the fastq files I got the following number of reads:"
      ]
    },
    {
      "cell_type": "code",
      "execution_count": null,
      "metadata": {},
      "outputs": [],
      "source": [
        "!snakemake --cores 12 --config sample=SRR292770_S1 --config reads=L001_R1_001 \n",
        "!snakemake --cores 12 --config sample=SRR292770_S1 --config reads=L001_R2_001\n",
        "!snakemake --cores 12 --config sample=SRR292862_S2 --config reads=L001_R1_001\n",
        "!snakemake --cores 12 --config sample=SRR292862_S2 --config reads=L001_R2_001 "
      ]
    },
    {
      "cell_type": "markdown",
      "metadata": {},
      "source": [
        "Number of reads:\n",
        "- SRR292678sub_S1_L001_R1_001.fastq: **5499346**\n",
        "- SRR292678sub_S1_L001_R2_001.fastq: **5499346**\n",
        "- SRR292770_S1_L001_R1_001.fastq: **5102041**\n",
        "- SRR292770_S1_L001_R2_001.fastq: **5102041**\n",
        "- SRR292862_S2_L001_R1_001.fastq: **5102041**\n",
        "- SRR292862_S2_L001_R2_001.fastq: **5102041**\n"
      ]
    },
    {
      "cell_type": "markdown",
      "metadata": {},
      "source": [
        "### Step 2.  K-mer profile and genome size estimation"
      ]
    },
    {
      "cell_type": "markdown",
      "metadata": {},
      "source": [
        "With a use of the paired-end library (SRR292678) and Jellywish, let's count the number of k-mers and estimate the genome size:\n",
        "\n",
        "Jellyfich count command:\n",
        "\n",
        "-  -m or “mer” specifies the length\n",
        "\n",
        "- -C tells it to ignore directionality (it treats each read the same as its reverse complement).\n",
        "\n",
        "- -s is an initial estimate for the size of the hash table jellyfish uses, set > genome size\n",
        "\n",
        "-  -o specifies the name of the output file. choose a name with the k-mer length in it"
      ]
    },
    {
      "cell_type": "code",
      "execution_count": null,
      "metadata": {},
      "outputs": [],
      "source": [
        "%%bash\n",
        "jellyfish count -o kmers_count -m 31 -C -s 6000000 SRR292678sub_S1_L001_R1_001.fastq SRR292678sub_S1_L001_R2_001.fastq\n",
        "jellyfish histo -o hist kmers_count"
      ]
    },
    {
      "cell_type": "markdown",
      "metadata": {},
      "source": [
        "The genome size was estimated with the use of R script:"
      ]
    },
    {
      "cell_type": "code",
      "execution_count": null,
      "metadata": {},
      "outputs": [],
      "source": [
        "%%R\n",
        "#before\n",
        "spec1 <- read.table(\"hist.csv\")\n",
        "plot(spec1[5:200,],type=\"l\",\n",
        "     main = \"K-mers distribution_before\",\n",
        "     xlab = \"depth\", ylab = \"count\")\n",
        "points(spec1[16:200,])\n",
        "sum(as.numeric(spec1[16:1500,1]*spec1[16:1500,2])) #calculate the total number of k-mer in the distribution\n",
        "genome_size <- sum(as.numeric(spec1[16:1500,1]*spec1[16:1500,2]))/125 #125 - the peak position\n",
        "genome_size/1000000 #5.14 Mb\n",
        "\n",
        "#after\n",
        "spec2 <- read.table(\"hist_after.csv\")\n",
        "plot(spec2[1:20,],type=\"l\",\n",
        "main = \"K-mers distribution_after\",\n",
        "     xlab = \"depth\", ylab = \"count\"\n",
        "points(spec2[1:20,])\n",
        "sum(as.numeric(spec2[1:15,1]*spec2[1:15,2]))\n",
        "genome_size_after <- sum(as.numeric(spec2[1:15,1]*spec2[1:15,2]))/2\n",
        "genome_size_after/1000000 #5.32 Mb"
      ]
    },
    {
      "cell_type": "markdown",
      "metadata": {},
      "source": [
        "### Step 3. Assembling E. coli X genome from paired reads"
      ]
    },
    {
      "cell_type": "markdown",
      "metadata": {},
      "source": [
        "For the read correction and assembly I used SPAdes assembler.\n",
        "I ran SPAdes in the paired-end mode, providing paired reads of E. coli X. from the library SRR292678 (forward and reverse)."
      ]
    },
    {
      "cell_type": "code",
      "execution_count": null,
      "metadata": {},
      "outputs": [],
      "source": [
        "%%bash\n",
        "spades.py -o ./result -1 SRR292678sub_S1_L001_R1_001.fastq -2 SRR292678sub_S1_L001_R2_001.fastq "
      ]
    },
    {
      "cell_type": "markdown",
      "metadata": {},
      "source": [
        "QUAST report analysis"
      ]
    },
    {
      "cell_type": "code",
      "execution_count": null,
      "metadata": {},
      "outputs": [],
      "source": [
        "%%bash \n",
        "quast -o . contigs.fasta scaffolds.fasta"
      ]
    },
    {
      "cell_type": "markdown",
      "metadata": {},
      "source": [
        "Effect of read correction"
      ]
    },
    {
      "cell_type": "code",
      "execution_count": null,
      "metadata": {},
      "outputs": [],
      "source": [
        "%%bash\n",
        "jellyfish count -o kmers_count_corrected -m 31 -C -s 6000000 contigs.fasta scaffolds.fasta\n",
        "jellyfish histo -o hist_after kmers_count_corrected"
      ]
    },
    {
      "cell_type": "markdown",
      "metadata": {},
      "source": [
        "### Step 4. Gene prediction and annotation with Prokka"
      ]
    },
    {
      "cell_type": "markdown",
      "metadata": {},
      "source": [
        "Prokka tool  identifies the coordinates of putative genes\n",
        "within contigs and then uses BLAST for similarity-based annotation using all proteins from sequenced bacterial genomes in the RefSeq database."
      ]
    },
    {
      "cell_type": "code",
      "execution_count": null,
      "metadata": {},
      "outputs": [],
      "source": [
        "%%bash\n",
        "prokka scaffolds.fasta --centre XXX"
      ]
    },
    {
      "cell_type": "markdown",
      "metadata": {},
      "source": [
        "```--centre XXX```\n",
        "in Prokka is used to rename all contigs to be NCBI (and Mauve) compliant. And Mauve is a system for constructing multiple genome alignments in the presence of large-scale evolutionary events such as rearrangement and inversion."
      ]
    },
    {
      "cell_type": "markdown",
      "metadata": {},
      "source": [
        "Prokka output results:\n",
        "```\n",
        "organism: Genus species strain\n",
        "contigs: 327\n",
        "bases: 5437160\n",
        "CDS: 5057\n",
        "rRNA: 23\n",
        "repeat_region: 1\n",
        "tRNA: 80\n",
        "tmRNA: 1\n",
        "```"
      ]
    },
    {
      "cell_type": "markdown",
      "metadata": {},
      "source": [
        "### Step 5. Finding the closest relative of E. coli X"
      ]
    },
    {
      "cell_type": "markdown",
      "metadata": {},
      "source": [
        "I needed to locate 16S rRNA in the assembled E. coli X genome to find the known genome that is the most similar to the pathogenic strain (and infer properties of E. coli X from it).\n",
        "I used the rRNA genes prediction tool [Barrnap](https://github.com/tseemann/barrnap)."
      ]
    },
    {
      "cell_type": "code",
      "execution_count": null,
      "metadata": {},
      "outputs": [],
      "source": [
        "%%bash \n",
        "barrnap -o rrna.fa < contigs.fasta > rrna.gff\n",
        "head -n 3 rrna.gff"
      ]
    },
    {
      "cell_type": "markdown",
      "metadata": {},
      "source": [
        "Next I  used BLAST to search for the genome in the RefSeq database with 16S rRNA that is most similar to the 16S rRNA that I just found."
      ]
    },
    {
      "cell_type": "markdown",
      "metadata": {},
      "source": [
        "``` output\n",
        "Escherichia coli 55989, complete sequence\n",
        "Sequence ID: NC_011748.1 Length: 5154862Number of Matches: 7\n",
        "```"
      ]
    },
    {
      "cell_type": "markdown",
      "metadata": {
        "id": "CKVPqUmwitjx"
      },
      "source": [
        "### Step 6. What is the genetic cause of HUS?\n",
        "To understand the genetic cause of HUS, I performed a genome-wide comparison with the reference genome and analyzed the regions where these strains differ from each other.\n",
        "I used a program called Mauve, which visualizes an alignment as a series of conserved segments called Locally Collinear Blocks (LCBs), which are similar to synteny blocks. Insertions and deletions in LCBs correspond to insertions and deletions in a bacterial.\n",
        "\n",
        "Found genes:\n",
        "- stxB 3483605,3483874. Shiga toxin subunit B precursor locus_tag PROKKA_03323\n",
        "\n",
        "- stxA 3483886,3484845. Shiga toxin subunit A precursor. locus_tag PROKKA_03324"
      ]
    },
    {
      "cell_type": "markdown",
      "metadata": {
        "id": "Tk6io21HRB3o"
      },
      "source": [
        "### Step 7. Tracing the source of toxin genes in E.coli\n",
        "\n",
        "Based on the annotation of nearby proteins, the possible origin of these toxin genes in E.coli is:\n",
        "\n",
        "\n",
        "- Int-Tn PROKKA_03362 [transposase from transposon Tn916](https://www.ncbi.nlm.nih.gov/gene/?term=Int-TN&report=full_report)\n",
        "\n",
        "- In GenBank this Int-Tn gene which encodes integrase that occurs in Escherichia phage phi191 genome. This integrase was also previously reported in [Clostridium difficile R20291](https://www.ncbi.nlm.nih.gov/gene/8469373).\n",
        "\n",
        "- In E.coli phage phi191 genome [Shiga toxin subunit also occurs](https://www.ncbi.nlm.nih.gov/gene/?term=Shiga+toxin+StxA++phage+phi191)\n",
        "\n",
        "- Other genes found nearby: nanS_5, HTH-type transcriptional regulator,rrrD_2, kilR_2 killing protein KiLR"
      ]
    },
    {
      "cell_type": "markdown",
      "metadata": {
        "id": "8YlbhrmsZz1f"
      },
      "source": [
        "### Step 8. Antibiotic resistance detection\n",
        "\n",
        "To search for genes responsible for antibiotic resistance, I used [ResFinder](https://cge.food.dtu.dk/services/ResFinder/), which specifically searches a database of genes implicated in antibiotic resistance, identifying similarities between the sequenced genome and this database using local alignment.\n",
        "\n",
        "After blast of regions flanking bla1 and bla2 genes:\n",
        "\n",
        "- Escherichia coli plasmid pKC90-L DNA, complete sequence, strain: KC90\n",
        "- Escherichia coli plasmid pB5-L DNA\n"
      ]
    }
  ],
  "metadata": {
    "colab": {
      "provenance": []
    },
    "kernelspec": {
      "display_name": "Python 3",
      "name": "python3"
    },
    "language_info": {
      "name": "python",
      "version": "3.10.12"
    }
  },
  "nbformat": 4,
  "nbformat_minor": 0
}
