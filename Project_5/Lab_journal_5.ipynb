{
  "cells": [
    {
      "cell_type": "markdown",
      "metadata": {
        "id": "sR4aEGs0n1kC"
      },
      "source": [
        "# H+, or how to build a perfect human.\n",
        "\n",
        "**Project 5.**\\\n",
        "Lab journal by Anna Ogurtsova\n",
        "\n",
        "---\n",
        "\n",
        "*For this project, I imagined that I am in the not-too-distant-future, where transhumanism has been widely accepted, and I am allowed to use CRISPR-Cas9 on humans. I can just order a DIY kit to make any corrections to my DNA (actually, I can order it now, but just for E. coli). What would I change?*\n",
        "\n"
      ]
    },
    {
      "cell_type": "markdown",
      "metadata": {},
      "source": [
        "**Dataset**: [“GitHub Guy”](https://github.com/msporny/dna)"
      ]
    },
    {
      "cell_type": "markdown",
      "metadata": {},
      "source": [
        "### Step 1. File conversion"
      ]
    },
    {
      "cell_type": "markdown",
      "metadata": {},
      "source": [
        "For analysis I needed to convert 23andMe's raw data into standard vcf format. I used [plink](https://www.cog-genomics.org/plink/), a program widely used in population genetics. But there are other options, such as bcftools convert."
      ]
    },
    {
      "cell_type": "code",
      "execution_count": null,
      "metadata": {},
      "outputs": [],
      "source": [
        "!mkdir project_5\n",
        "!wget http://s3.amazonaws.com/plink1-assets/plink_linux_x86_64_20231211.zip\n",
        "!nzip plink_linux_x86_64_20231211.zip -d plink\n",
        "!sudo mv plink/plink /usr/local/bin\n",
        "!plink --version #PLINK v1.90b7.2 64-bit (11 Dec 2023)"
      ]
    },
    {
      "cell_type": "markdown",
      "metadata": {},
      "source": [
        "First I removed all SNPs corresponding to deletions and insertions to make the file compatible with annotation tools."
      ]
    },
    {
      "cell_type": "code",
      "execution_count": null,
      "metadata": {},
      "outputs": [],
      "source": [
        "!plink --23file ManuSporny-genome.txt --recode vcf --out snps_clean --output-chr MT --snps-only just-acgt"
      ]
    },
    {
      "cell_type": "markdown",
      "metadata": {},
      "source": [
        "The resulting file contains all the analyzed SNPs, and we are interested only in variable positions.\n",
        "\n",
        "So I decided to filter only variable positions with the use of bcftools."
      ]
    },
    {
      "cell_type": "code",
      "execution_count": null,
      "metadata": {},
      "outputs": [],
      "source": [
        "!bcftools view -v snps snps_clean.vcf -o snps_variable.vcf"
      ]
    },
    {
      "cell_type": "markdown",
      "metadata": {},
      "source": [
        "I count the number of SNPs"
      ]
    },
    {
      "cell_type": "code",
      "execution_count": null,
      "metadata": {},
      "outputs": [],
      "source": [
        "!grep -v \"^#\" snps_clean.vcf | wc -l    # 965887\n",
        "!grep -v \"^#\" snps_variable.vcf| wc -l  # 287174"
      ]
    },
    {
      "cell_type": "markdown",
      "metadata": {},
      "source": [
        "That means that this genome has snps in 287 174 positions."
      ]
    },
    {
      "cell_type": "markdown",
      "metadata": {
        "id": "hiWg7yJOsgp7"
      },
      "source": [
        "### Step 2. Origins, haplogroups."
      ]
    },
    {
      "cell_type": "markdown",
      "metadata": {
        "id": "R2YgNe7Eojo-"
      },
      "source": [
        "**Establish maternal (mtDNA) and paternal (Y-chromosome) haplogroups and, optionally, probable ethnicity.**\n",
        "\n",
        "1. There are many ready-made tools from colleagues at [the International Society of GeneticnGenealogy](https://isogg.org/wiki/MtDNA_tools).\\\n",
        "For example, for [mtDNA](https://dna.jameslick.com/mthap/) - shows all SNPs that distinguish the haplogroup, and takes 23andMe input.\n",
        "\n",
        "\n",
        "\n",
        "\n",
        "\n"
      ]
    },
    {
      "cell_type": "markdown",
      "metadata": {},
      "source": [
        "**Most probably this person belongs to haplogroup M (M6a is the closest one).\n",
        "Subgroup haplogroup M6 – found mainly in South Asia, with highest concentrations in mid-eastern India and Kashmir.**"
      ]
    },
    {
      "cell_type": "markdown",
      "metadata": {
        "id": "MXlbUJuz3c2n"
      },
      "source": [
        "2. For the Y chromosome there is also a lot of interesting stuff - [for example](https://isogg.org/wiki/Y-DNA_tools)\\\n",
        "For raw 23andMe, for example, [this one](https://ytree.morleydna.com/extractFromAutosomal)"
      ]
    },
    {
      "cell_type": "markdown",
      "metadata": {},
      "source": [
        "### Step 3. Annotation - sex and eye colour"
      ]
    },
    {
      "cell_type": "markdown",
      "metadata": {
        "id": "yNmd0Id0_f6O"
      },
      "source": [
        "Person's sex and eye color.\n",
        "This person is male, because his genome contains Y chromosome.\n",
        "\n",
        "SNPs which are specific for y chromosome:\n",
        "```\n",
        "rs2032597\n",
        "rs13447352\n",
        "rs2032658\n",
        "rs9786184\n",
        "rs9786176\n",
        "```"
      ]
    },
    {
      "cell_type": "code",
      "execution_count": null,
      "metadata": {},
      "outputs": [],
      "source": [
        "!grep -E \"rs2032597|rs13447352|rs2032658|rs9786184|rs9786176\" ManuSporny-genome.txt"
      ]
    },
    {
      "cell_type": "markdown",
      "metadata": {},
      "source": [
        "Output:\\\n",
        "rs2032597\tY\t13357186\tA\\\n",
        "rs2032658\tY\t14091377\tG\\\n",
        "rs13447352\tY\t21159241\tA\n"
      ]
    },
    {
      "cell_type": "markdown",
      "metadata": {},
      "source": [
        "For eye colour you I used this [article](https://www.ncbi.nlm.nih.gov/pmc/articles/PMC3694299/)"
      ]
    },
    {
      "cell_type": "code",
      "execution_count": null,
      "metadata": {},
      "outputs": [],
      "source": [
        "!grep -E \"rs12203592|rs12896399|rs12913832|rs16891982|rs611947\" ManuSporny-genome.txt > extracted_snps_raw.txt"
      ]
    },
    {
      "cell_type": "markdown",
      "metadata": {},
      "source": [
        "\n",
        "Most probably our guy has brown eyes:\n",
        "\n",
        "\n",
        "`rs16891982`\t5\t`33987450`\tCG\n",
        "\n",
        "`rs12203592`\t6\t`341321`\t\tCC\n",
        "\n",
        "`rs12896399`\t14\t`91843416`\tGT\n",
        "\n",
        "**rs12913832**\t15\t26039213\t**AG** not blue"
      ]
    },
    {
      "cell_type": "markdown",
      "metadata": {},
      "source": [
        "### Step 4. Annotation of all SNPs, selection of clinically relevant ones."
      ]
    },
    {
      "cell_type": "markdown",
      "metadata": {},
      "source": [
        "#### **a) The variant with SnpEff/SnpSift**"
      ]
    },
    {
      "cell_type": "code",
      "execution_count": null,
      "metadata": {},
      "outputs": [],
      "source": [
        "!snpEff GRCh37.75 snps_clean.vcf > snps_snpeff_trial.vcf\n",
        "!snpSift annotate -v clinvar.vcf snps_clean.vcf > snps_clean_snpsift_clinvar.vcf\n",
        "!grep CLNDN snps_clean_snpsift_clinvar.vcf > filtered_diagnosis.vcf"
      ]
    },
    {
      "cell_type": "markdown",
      "metadata": {},
      "source": [
        "After comparison with ClinVar database the following potentioal diagnosis were obtained:"
      ]
    },
    {
      "cell_type": "code",
      "execution_count": null,
      "metadata": {},
      "outputs": [],
      "source": [
        "!awk -F'\\t' '/^#/ {next} {split($8, info, \";\"); clndn=\"\"; clnsig=\"\"; for (i in info) {split(info[i], kv, \"=\"); \\\n",
        "if (kv[1] == \"CLNDN\") {clndn = kv[2]} if (kv[1] == \"CLNSIG\") {clnsig = kv[2]}} if (clndn != \"\" && clnsig != \"\") {print clndn \"\\t\" clnsig}}' filtered_diagnosis.vcf"
      ]
    },
    {
      "cell_type": "markdown",
      "metadata": {},
      "source": [
        "```Output\n",
        "Amyotrophic_lateral_sclerosis_type_10|TARDBP-related_frontotemporal_dementia\tUncertain_significance\n",
        "not_provided\tBenign\n",
        "Inborn_genetic_diseases\tUncertain_significance\n",
        "Inborn_genetic_diseases\tUncertain_significance\n",
        "not_provided\tBenign\n",
        "Cardiovascular_phenotype\tLikely_benign\n",
        "Generalized_epilepsy_with_febrile_seizures_plus,_type_7|Neuropathy,_hereditary_sensory_and_autonomic,_type_2A\tUncertain_significance\n",
        "Dilated_cardiomyopathy_1G|Autosomal_recessive_limb-girdle_muscular_dystrophy_type_2J\tUncertain_significance\n",
        "Inborn_genetic_diseases\tLikely_benign\n",
        "**not_provided|Familial_adenomatous_polyposis_1|Hereditary_cancer-predisposing_syndrome\tUncertain_significance**\n",
        "Inborn_genetic_diseases\tUncertain_significance\n",
        "not_provided\tLikely_benign\n",
        "not_provided\tUncertain_significance\n",
        "Cardiovascular_phenotype\tLikely_benign\n",
        "Inborn_genetic_diseases\tUncertain_significance\n",
        "not_provided\tLikely_benign\n",
        "not_provided|Early_infantile_epileptic_encephalopathy_with_suppression_bursts\tLikely_benign\n",
        "Telangiectasia,_hereditary_hemorrhagic,_type_2\tLikely_benign\n",
        "Retinoblastoma\tLikely_benign\n",
        "**Spastic_paraplegia_52,_autosomal_recessive\tUncertain_significance**\n",
        "Inborn_genetic_diseases\tUncertain_significance\n",
        "Congenital_myasthenic_syndrome_4A\tUncertain_significance\n",
        "Inborn_genetic_diseases\tUncertain_significance\n",
        "**Neurofibromatosis,_type_1|Cardiovascular_phenotype|Hereditary_cancer-predisposing_syndrome\tUncertain_significance\n",
        "**Malignant_tumor_of_prostate\tUncertain_significance\n",
        "not_provided\tUncertain_significance\n",
        "Rhabdoid_tumor_predisposition_syndrome_2\tLikely_benign\n",
        "Developmental_and_epileptic_encephalopathy,_30\tLikely_benign\n",
        "```"
      ]
    },
    {
      "cell_type": "markdown",
      "metadata": {},
      "source": [
        "**Among these variants, 16 are of uknown significance, 2 are benign and 10 - likely benign. And no variant is pathogenic.**"
      ]
    },
    {
      "cell_type": "code",
      "execution_count": null,
      "metadata": {},
      "outputs": [],
      "source": [
        "!snpSift gwasCat -db gwas_catalog_v1.0-associations_e111_r2024-02-11.tsv snps_clean.vcf > snps_clean_gwascat.vcf\n",
        "!grep GWASCAT_TRAIT snps_clean_gwascat.vcf > GWAS_traits.vcf"
      ]
    },
    {
      "cell_type": "markdown",
      "metadata": {},
      "source": [
        "To filter only those factors from a GWAS dataset that suggest a strong positive association, I looked at the Odds Ratio (OR) or Beta values along with their corresponding p-values."
      ]
    },
    {
      "cell_type": "code",
      "execution_count": null,
      "metadata": {},
      "outputs": [],
      "source": [
        "%%bash\n",
        "awk -F'\\t' '{\n",
        "    split($8, info, \";\");\n",
        "    or_beta = 0; p_value = 1;\n",
        "    for (i in info) {\n",
        "        split(info[i], kv, \"=\");\n",
        "        if (kv[1] == \"GWASCAT_OR_BETA\") {or_beta = kv[2]}\n",
        "        if (kv[1] == \"GWASCAT_P_VALUE\") {p_value = kv[2]}\n",
        "    }\n",
        "    if (or_beta > 1 && p_value < 0.05) {print}\n",
        "}' GWAS_traits.vcf > significant_GWAS_traits.vcf"
      ]
    },
    {
      "cell_type": "markdown",
      "metadata": {},
      "source": [
        "\n",
        "The obtained genes:\n",
        "\n",
        "```\n",
        "rs11708202\t0/1\tAlcohol_consumption_x_playing_computer_games_interaction\n",
        "rs6825410\t0/1 Diastolic_blood_pressure_in_combination_therapy__beta_blocker_and_thiazide_diuretic_\n",
        "rs11739417\t0/1\tYouthful_appearance__self-reported_\n",
        "rs9356704\t0/1\tUlcerative_colitis\n",
        "rs6980713\t0/1\tGlaucoma__primary_open-angle_\n",
        "rs2497219\t0/1\tSchizophrenia\n",
        "rs17782124\t0/1\tMacroalbuminuria_in_type_1_diabetes\n",
        "```"
      ]
    },
    {
      "cell_type": "markdown",
      "metadata": {},
      "source": [
        "For each gene VCF REF is \"A\" and ALT is \"G\" and there's a heterozygous genotype."
      ]
    },
    {
      "cell_type": "markdown",
      "metadata": {},
      "source": [
        "#### **b) VEP EP (Variant Effect Predictor)**"
      ]
    },
    {
      "cell_type": "markdown",
      "metadata": {
        "id": "9rI7pCJJYmoW"
      },
      "source": [
        "Also easier [online](https://grch37.ensembl.org/Homo_sapiens/Tools/VEP/Results?tl=omwUvl8wDdI7EuCo-9893558), with a suitable version of the genome - 37 or, if I have some new data, 38.\n",
        "\n",
        "\n",
        "\n",
        "Command line equivalent:"
      ]
    },
    {
      "cell_type": "code",
      "execution_count": null,
      "metadata": {},
      "outputs": [],
      "source": [
        "!./vep --af --appris --biotype --buffer_size 500 --check_existing --distance 5000 --mane --polyphen b --pubmed --regulatory --show_ref_allele --sift b --species homo_sapiens --symbol --transcript_version --tsl --uploaded_allele --cache --input_file [input_data] --output_file [output_file] --port 3337"
      ]
    },
    {
      "cell_type": "markdown",
      "metadata": {},
      "source": [
        "I looked at a column \"CLIN_SIG\" to find for potential risk factors, but there were none of them:"
      ]
    },
    {
      "cell_type": "code",
      "execution_count": null,
      "metadata": {},
      "outputs": [],
      "source": [
        "!awk '($32!=\"-\") ' vep_output.txt | grep risk_factor | cut -f 1-3 | sort | uniq  #no risk factors"
      ]
    },
    {
      "cell_type": "markdown",
      "metadata": {
        "id": "KthUpFfM__RA"
      },
      "source": [
        "### Step 5. Genome editing\n",
        "\n",
        "\n",
        "#### **Corrections**\n",
        "\n",
        "#### a. **rs2802292**\n",
        "\n",
        "Our subject is heterozygous at position 109015211 on chromosome 6.\n",
        "```\n",
        "6 09015211 rs2802292 G T . . OR GT 0/1\n",
        "```\n",
        "\n",
        "If we were to change his genotype to homozygous TT at this position, he would be 1.5 to 2.7 times more likely to live to 100.\n",
        "\n",
        "This snp happens in FOXO3 gene. This gene is involved in the regulation of oxidative stress, insulin sensitivity, and cellular apoptosis. SNPs in the FOXO3 gene have been linked to longevity in various populations.\n",
        "\n",
        "##### b. **rs6983267**\n",
        "```\n",
        "8\t128482487\trs6983267\tG\tT\t.\t.\tPR\tGT\t0/1\n",
        "```\n",
        "This genotype has an increased risk of prostate cancer ((G;T) risk genotypes yield an odds ratio for developing prostate cancer of 1.37 (CI: 1.18-1.59, p=3.4-10e-5) and may account for 22.2% of population attributable risk).\n",
        "If we correct this genotype to homozygous TT, the risk of cancer will become normal.\n",
        "\n",
        "##### c. **rs4680**\n",
        "\n",
        "rs4680 (Val158Met) is a well studied SNP in the COMT gene. The COMT gene codes for the COMT enzyme, which breaks down dopamine in the brain's prefrontal cortex. The wild-type allele is a (G), coding for a valine amino acid; the (A) substitution polymorphism changes the amino acid to a methionine.\n",
        "\n",
        "The heterozygous variant has intermediate dopamine levels.\n",
        "\n",
        "```\n",
        "22\t18331271\trs4680\tA\tG\t.\t.\tPR\tGT\t0/1\n",
        "```\n",
        "If we change the genotype to homozygous AA, GitHub guy will aquire advantage in memory and attention tasks.\n",
        "\n"
      ]
    }
  ],
  "metadata": {
    "colab": {
      "provenance": []
    },
    "kernelspec": {
      "display_name": "Python 3",
      "name": "python3"
    },
    "language_info": {
      "codemirror_mode": {
        "name": "ipython",
        "version": 3
      },
      "file_extension": ".py",
      "mimetype": "text/x-python",
      "name": "python",
      "nbconvert_exporter": "python",
      "pygments_lexer": "ipython3",
      "version": "3.10.12"
    }
  },
  "nbformat": 4,
  "nbformat_minor": 0
}
