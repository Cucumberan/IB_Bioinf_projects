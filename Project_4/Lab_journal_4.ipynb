{
  "cells": [
    {
      "cell_type": "markdown",
      "metadata": {
        "id": "QsV_dG1LvlgE"
      },
      "source": [
        "# Tardigrades: from genestealers to space marines \n",
        "\n",
        "**Project 4.**\\\n",
        "Lab journal by Anna Ogurtsova\n",
        "\n",
        "---"
      ]
    },
    {
      "cell_type": "markdown",
      "metadata": {},
      "source": [
        "### Step 0. Obtaining data. Genome sequence\n"
      ]
    },
    {
      "cell_type": "markdown",
      "metadata": {},
      "source": [
        "For this project  a sequence of the [Ramazzottius varieornatus](https://www.ncbi.nlm.nih.gov/Taxonomy/Browser/wwwtax.cgi?id=947166) was used.\n",
        "Taxonomy ID: 947166"
      ]
    },
    {
      "cell_type": "code",
      "execution_count": null,
      "metadata": {},
      "outputs": [],
      "source": [
        "%%bash\n",
        "mkdir raw_data\n",
        "cd raw_data/"
      ]
    },
    {
      "cell_type": "markdown",
      "metadata": {},
      "source": [
        "### Step 1. Structural annotation"
      ]
    },
    {
      "cell_type": "markdown",
      "metadata": {},
      "source": [
        "Functional annotation comprise a search for homologous proteins and conserved domains to assign potential functions to the genes and proteins found.\n",
        "\n",
        "The extraction of protein sequences (fasta) from the prediction output (usually GFF/GTF) is needed."
      ]
    },
    {
      "cell_type": "markdown",
      "metadata": {},
      "source": [
        "I use gene prediction results obtained by AUGUSTUS and I use [getAnnoFasta.pl](http://augustus.gobics.de/binaries/scripts/getAnnoFasta.pl)script which creates fasta sequence files from the AUGUSTUS output."
      ]
    },
    {
      "cell_type": "markdown",
      "metadata": {},
      "source": [
        "1. To calculate the number of predicted proteins:"
      ]
    },
    {
      "cell_type": "code",
      "execution_count": null,
      "metadata": {},
      "outputs": [],
      "source": [
        "!cat raw_data/augustus.whole.aa | grep '^>' | wc -l "
      ]
    },
    {
      "cell_type": "markdown",
      "metadata": {},
      "source": [
        "We observe that there are 16435 proteins were found.\n",
        "\n",
        "Let’s find how many peptides were identified by tandem mass spectrometry."
      ]
    },
    {
      "cell_type": "code",
      "execution_count": null,
      "metadata": {},
      "outputs": [],
      "source": [
        "!cat raw_data/peptides.fa | grep '^>' | wc -l"
      ]
    },
    {
      "cell_type": "markdown",
      "metadata": {},
      "source": [
        "We observe that there are 43 peptides were found by TMS"
      ]
    },
    {
      "cell_type": "markdown",
      "metadata": {},
      "source": [
        "### Step 2. Physical localization"
      ]
    },
    {
      "cell_type": "markdown",
      "metadata": {},
      "source": [
        "With the use of data provided by tandem mass spectrometry (TMS), a set of different peptides which are supposed to be parts of different DNA-binding proteins was obtained. Now the goal was to match this peptide fragments to *R.varieornatus* protein sequences."
      ]
    },
    {
      "cell_type": "code",
      "execution_count": null,
      "metadata": {},
      "outputs": [],
      "source": [
        "!mkdir database\n",
        "!makeblastdb -in raw_data/augustus.whole.aa -dbtype prot -out database/tardigrade_db"
      ]
    },
    {
      "cell_type": "markdown",
      "metadata": {},
      "source": [
        "Search for peptides in local DB"
      ]
    },
    {
      "cell_type": "code",
      "execution_count": null,
      "metadata": {},
      "outputs": [],
      "source": [
        "!blastp -db database/tardigrade_db -query raw_data/peptides.fa -outfmt \"6 sseqid pident\"  -out result_custom\n",
        "!blastp -db database/tardigrade_db -query raw_data/peptides.fa -outfmt \"6 sseqid\"  -out all_ids.txt\n",
        "!wc -l result_custom #output 118 "
      ]
    },
    {
      "cell_type": "markdown",
      "metadata": {},
      "source": [
        "The fragments were located within 118 protein sequences with percentage of identical positions varying from 53.846% to 100%. \\\n",
        "The next step will be to extract this proteins from fasta file with 16435 *R.varieornatus* proteint sequences.\n",
        "\n",
        "Extraction of unique proteins with 100% identical positions with the use of Pandas library"
      ]
    },
    {
      "cell_type": "code",
      "execution_count": null,
      "metadata": {},
      "outputs": [],
      "source": [
        "%%python\n",
        "import pandas as pd\n",
        "import numpy as np\n",
        "df_all_ids = pd.read_csv('all_ids.txt', sep = '\\t')\n",
        "df_all_ids.columns = ['ID']\n",
        "x = df_all_ids['ID'].unique()\n",
        "np.savetxt('unique.txt', x, fmt='%s')\n"
      ]
    },
    {
      "cell_type": "markdown",
      "metadata": {},
      "source": [
        "So among 118 proteins found with BLAST only 34 were unique.\\\n",
        "Further extraction of 34 proteins of interest was done with [seqtk subseq utility](https://github.com/lh3/seqtk)."
      ]
    },
    {
      "cell_type": "markdown",
      "metadata": {
        "id": "C5BHv6bgv5EK"
      },
      "source": [
        "The obtained seq_subset_unique.fasta was further used for localization prediction.\n"
      ]
    },
    {
      "cell_type": "markdown",
      "metadata": {
        "id": "gTGtwL-fZxPL"
      },
      "source": [
        "### Step 4. Localization prediction"
      ]
    },
    {
      "cell_type": "markdown",
      "metadata": {},
      "source": [
        "**4a. WoLF PSORT**\n",
        "\n",
        "[WoLF PSORT](https://wolfpsort.hgc.jp/) predicts the subcellular localization of proteins based on the presence of a signal peptide on their N-terminus.\\\n",
        "\n",
        "Results:\n",
        "```Output\n",
        "g702.t1 details extr: 29, plas: 2, lyso: 1 g1285.t1 details extr: 25, plas: 5, mito: 1, lyso: 1 g1285.t1 details extr: 25, plas: 5, mito: 1, lyso: 1 g1285.t1 details extr: 25, plas: 5, mito: 1, lyso: 1 g3428.t1 details mito: 18, cyto: 11, extr: 2, nucl: 1 g3428.t1 details mito: 18, cyto: 11, extr: 2, nucl: 1 g3428.t1 details mito: 18, cyto: 11, extr: 2, nucl: 1 g3679.t1 details extr: 26, mito: 2, lyso: 2, plas: 1, E.R.: 1 g4106.t1 details E.R.: 14.5, E.R._golg: 9.5, extr: 7, golg: 3.5, lyso: 3, pero: 2, plas: 1, mito: 1 g4106.t1 details E.R.: 14.5, E.R._golg: 9.5, extr: 7, golg: 3.5, lyso: 3, pero: 2, plas: 1, mito: 1 g5237.t1 details plas: 24, mito: 8 g5237.t1 details plas: 24, mito: 8 g5467.t1 details extr: 27, plas: 4, mito: 1 g5467.t1 details extr: 27, plas: 4, mito: 1 g5502.t1 details extr: 31, lyso: 1 g5502.t1 details extr: 31, lyso: 1 g5502.t1 details extr: 31, lyso: 1 g5503.t1 details extr: 29, plas: 1, mito: 1, lyso: 1 g5503.t1 details extr: 29, plas: 1, mito: 1, lyso: 1 g5503.t1 details extr: 29, plas: 1, mito: 1, lyso: 1 g5510.t1 details plas: 23, mito: 7, E.R.: 1, golg: 1 g5616.t1 details extr: 31, mito: 1 g5616.t1 details extr: 31, mito: 1 g5616.t1 details extr: 31, mito: 1 g5616.t1 details extr: 31, mito: 1 g5641.t1 details extr: 31, lyso: 1 g5641.t1 details extr: 31, lyso: 1 g5641.t1 details extr: 31, lyso: 1 g5641.t1 details extr: 31, lyso: 1 g5641.t1 details extr: 31, lyso: 1 g5641.t1 details extr: 31, lyso: 1 g5641.t1 details extr: 31, lyso: 1 g5641.t1 details extr: 31, lyso: 1 g5641.t1 details extr: 31, lyso: 1 g5641.t1 details extr: 31, lyso: 1 g5641.t1 details extr: 31, lyso: 1 g5641.t1 details extr: 31, lyso: 1 g10513.t1 details nucl: 20, cyto_nucl: 14.5, cyto: 7, extr: 3, E.R.: 1, golg: 1 g10514.t1 details nucl: 19, cyto_nucl: 15, cyto: 9, extr: 3, mito: 1 g10514.t1 details nucl: 19, cyto_nucl: 15, cyto: 9, extr: 3, mito: 1 g12510.t1 details plas: 29, cyto: 3 g12510.t1 details plas: 29, cyto: 3 g12510.t1 details plas: 29, cyto: 3 g12562.t1 details extr: 30, lyso: 2 g12562.t1 details extr: 30, lyso: 2 g12562.t1 details extr: 30, lyso: 2 g12562.t1 details extr: 30, lyso: 2 g12562.t1 details extr: 30, lyso: 2 g12562.t1 details extr: 30, lyso: 2 g13530.t1 details extr: 13, nucl: 6.5, lyso: 5, cyto_nucl: 4.5, plas: 3, E.R.: 3, cyto: 1.5 g13530.t1 details extr: 13, nucl: 6.5, lyso: 5, cyto_nucl: 4.5, plas: 3, E.R.: 3, cyto: 1.5 g14472.t1 details nucl: 28, plas: 2, cyto: 1, cysk: 1 g15153.t1 details extr: 32 g15153.t1 details extr: 32 g15153.t1 details extr: 32 g15153.t1 details extr: 32 g15153.t1 details extr: 32 g15153.t1 details extr: 32 g15153.t1 details extr: 32 g15153.t1 details extr: 32 g15153.t1 details extr: 32 g15484.t1 details nucl: 17.5, cyto_nucl: 15.3333, cyto: 12, cyto_mito: 6.83333, plas: 1, golg: 1 g15484.t1 details nucl: 17.5, cyto_nucl: 15.3333, cyto: 12, cyto_mito: 6.83333, plas: 1, golg: 1 g15484.t1 details nucl: 17.5, cyto_nucl: 15.3333, cyto: 12, cyto_mito: 6.83333, plas: 1, golg: "
      ]
    },
    {
      "cell_type": "markdown",
      "metadata": {},
      "source": [
        "I didn't like the output format, so I didn't use the obtained result in further research given that I also have TargetP Server."
      ]
    },
    {
      "cell_type": "markdown",
      "metadata": {},
      "source": [
        "**4b. TargetP Server**\n",
        "\n",
        "Predict localization of eukaryotic proteins based on the presence of any of the N-terminal presequences: chloroplast transit peptide (cTP), mitochondrial targeting peptide (mTP) or secretory pathway signal peptide (SP).\n",
        "\n",
        "Among 34 proteins of interest, 21 proteins were classified as **\"OTHER\"** localisation by TargetP Server. \n"
      ]
    },
    {
      "cell_type": "markdown",
      "metadata": {},
      "source": [
        "I extracted these 21 proteins for further BLAST search against “UniProtKB/Swiss-Prot” database."
      ]
    },
    {
      "cell_type": "code",
      "execution_count": null,
      "metadata": {},
      "outputs": [],
      "source": [
        "%%python\n",
        "df_predicted = pd.read_csv('output_protein_type.txt', sep = '\\t')\n",
        "df_predicted_filtered = df_predicted[df_predicted['Prediction'] == 'OTHER']\n",
        "df_predicted_filtered['# ID'].to_csv('genes_to_check1.txt', index=False, header=False) #extraction of variants classified as \"OTHER\""
      ]
    },
    {
      "cell_type": "code",
      "execution_count": null,
      "metadata": {},
      "outputs": [],
      "source": [
        "%%bash\n",
        "seqtk subseq augustus.whole.aa genes_to_check1.txt > seq_subset_21.fasta"
      ]
    },
    {
      "cell_type": "markdown",
      "metadata": {},
      "source": [
        "Link for [the results](https://drive.google.com/file/d/1pu7TsT1Mn2un-qchcXAco6TAvE7QNlv_/view?usp=drive_link)"
      ]
    },
    {
      "cell_type": "markdown",
      "metadata": {
        "id": "4UZoUuLHY2yV"
      },
      "source": [
        "### Step 5. BLAST search\n",
        "\n",
        "\n",
        "Using **seq_subset_21.fasta** as an input file a performed **a BLAST search against “UniProtKB/Swiss-Prot” database** without specifying an organism.\n",
        "\n",
        "**Only one protein in 21 was suitable and this was g14472.t1 - Damage suppressor protein (UniProtKB/Swiss-Prot: P0DOW4.1)**.\n",
        "\n",
        "10 proteins didn't align at all and 10 proteins had different homologues within eucariotic proteins but none of them belong to DNA-repair related proteins.\n",
        "\n",
        "Link for [the results](https://drive.google.com/file/d/1WSlnXJcyc8C2HwJm9ayewGAvtCB9qlCo/view?usp=drive_link)\n"
      ]
    }
  ],
  "metadata": {
    "colab": {
      "provenance": []
    },
    "kernelspec": {
      "display_name": "Python 3",
      "name": "python3"
    },
    "language_info": {
      "codemirror_mode": {
        "name": "ipython",
        "version": 3
      },
      "file_extension": ".py",
      "mimetype": "text/x-python",
      "name": "python",
      "nbconvert_exporter": "python",
      "pygments_lexer": "ipython3",
      "version": "3.10.12"
    }
  },
  "nbformat": 4,
  "nbformat_minor": 0
}
