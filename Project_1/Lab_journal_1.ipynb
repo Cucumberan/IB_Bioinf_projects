{
 "cells": [
  {
   "cell_type": "markdown",
   "metadata": {},
   "source": [
    "# What causes antibiotic resistance?\n",
    "\n",
    "**Project 1.**\\\n",
    "Lab journal by Anna Ogurtsova\n",
    "\n",
    "---"
   ]
  },
  {
   "cell_type": "markdown",
   "metadata": {},
   "source": [
    "Tools which I used:\n",
    "\n",
    "- **FastQC v0.12.1** to evaluate the quality of reads \n",
    "- **Trimmomatic-0.39** to perform reads filtering \n",
    "- **bwa-0.7.17** to align reads to a reference genome \n",
    "- **samtools 1.7** for SAM file compression, BAM file sorting, and indexing \n",
    "- **VarScan.v2.3.9** for variant calling \n",
    "- **SnpEff 5.2** for automatic SNP annotation\n"
   ]
  },
  {
   "cell_type": "markdown",
   "metadata": {},
   "source": [
    "### Step 0. Environement and project directory creation"
   ]
  },
  {
   "cell_type": "code",
   "execution_count": null,
   "metadata": {},
   "outputs": [],
   "source": [
    "!mkdir project_1\n",
    "!cd project_1\n",
    "!mamba create -n project_1 -c bioconda trimmomatic fastqc bwa samtools igv varscan snpeff\n",
    "!mamba activate project_1"
   ]
  },
  {
   "cell_type": "markdown",
   "metadata": {},
   "source": [
    "### Step 1. Download raw data\n",
    "\n",
    "1. Download reference E.coli genome sequence [GCF_000005845.2_ASM584v2_genomic.fna.gz](https://ftp.ncbi.nlm.nih.gov/genomes/all/GCF/000/005/845/GCF_000005845.2_ASM584v2/GCF_000005845.2_ASM584v2_genomic.fna.gz)"
   ]
  },
  {
   "cell_type": "code",
   "execution_count": null,
   "metadata": {},
   "outputs": [],
   "source": [
    "!wget -c https://ftp.ncbi.nlm.nih.gov/genomes/all/GCF/000/005/845/GCF_000005845.2_ASM584v2/GCF_000005845.2_ASM584v2_genomic.fna.gz"
   ]
  },
  {
   "cell_type": "markdown",
   "metadata": {},
   "source": [
    "2. Download annotation in .gff format(*_genomic.gff.gz):"
   ]
  },
  {
   "cell_type": "code",
   "execution_count": null,
   "metadata": {},
   "outputs": [],
   "source": [
    "!wget -c https://ftp.ncbi.nlm.nih.gov/genomes/all/GCF/000/005/845/GCF_000005845.2_ASM584v2/GCF_000005845.2_ASM584v2_genomic.gff.gz"
   ]
  },
  {
   "cell_type": "markdown",
   "metadata": {},
   "source": [
    "3. Downloaded raw Illumina sequencing reads from shotgun sequencing of an E. coli strain that is resistant to the antibiotic ampicillin."
   ]
  },
  {
   "cell_type": "code",
   "execution_count": null,
   "metadata": {},
   "outputs": [],
   "source": [
    "!wget https://figshare.com/ndownloader/files/23769689\n",
    "!wget https://figshare.com/ndownloader/files/23769692"
   ]
  },
  {
   "cell_type": "markdown",
   "metadata": {},
   "source": [
    "### Step 2. Raw sequencing data inspection"
   ]
  },
  {
   "cell_type": "markdown",
   "metadata": {},
   "source": [
    "Count number of reads in each file"
   ]
  },
  {
   "cell_type": "code",
   "execution_count": null,
   "metadata": {},
   "outputs": [],
   "source": [
    "!gunzip 237*\n",
    "!wc -l amp_res_1.fastq #(output 1823504 amp_res_1.fastq). Therefore, number of reads = 1823504/4 = 455876 - in line with fastqc report\n",
    "!wc -l amp_res_2.fastq"
   ]
  },
  {
   "cell_type": "markdown",
   "metadata": {},
   "source": [
    "### Step 3. Inspect raw sequencing data with FastQC. Filtering the reads."
   ]
  },
  {
   "cell_type": "markdown",
   "metadata": {},
   "source": [
    "Run fastQC on forward and reverse reads"
   ]
  },
  {
   "cell_type": "code",
   "execution_count": null,
   "metadata": {},
   "outputs": [],
   "source": [
    "%%bash\n",
    "mkdir fastqc\n",
    "fastqc -o . amp*.fastq "
   ]
  },
  {
   "cell_type": "markdown",
   "metadata": {},
   "source": [
    "### Step 4. (Optional, 1 bonus point) Filtering the reads"
   ]
  },
  {
   "cell_type": "markdown",
   "metadata": {},
   "source": [
    "**Explanation of the options:**\n",
    "\n",
    "1. `PE`: Indicates that we are running Trimmomatic in paired-end mode.\n",
    "2. `-phred33`: Specifies that the input quality scores are in Phred+33 format.\n",
    "3. `input_forward.fastq.gz` and `input_reverse.fastq.gz`: Input paired-end FASTQ files.\n",
    "4. `output_forward_paired.fastq.gz` and `output_reverse_paired.fastq.gz`: Output files for the trimmed paired reads.\n",
    "5. `output_forward_unpaired.fastq.gz` and `output_reverse_unpaired.fastq.gz`: Output files for the unpaired reads.\n",
    "6. `LEADING:20`: Cut bases off the start of a read if quality is below 20.\n",
    "7. `TRAILING:20`: Cut bases off the end of a read if quality is below 20.\n",
    "8. `SLIDINGWINDOW:10:20`: Trim reads using a sliding window approach with a window size of 10 and average quality within the window of 20.\n",
    "9. `MINLEN:20`: Drop the read if it is below a length of 2"
   ]
  },
  {
   "cell_type": "markdown",
   "metadata": {},
   "source": [
    "Trimming the reads"
   ]
  },
  {
   "cell_type": "code",
   "execution_count": null,
   "metadata": {},
   "outputs": [],
   "source": [
    "%%bash\n",
    "mkdir trimmed\n",
    "trimmomatic PE -phred33 amp_res_1.fastq amp_res_2.fastq \\\n",
    "    trimmed/output_amp_res_1_paired.fastq.gz trimmed/output_amp_res_1_unpaired.fastq.gz \\\n",
    "    trimmed/output_amp_res_2_paired.fastq.gz trimmed/output_amp_res_2_unpaired.fastq.gz \\\n",
    "    LEADING:20 TRAILING:20 SLIDINGWINDOW:10:20 MINLEN:20"
   ]
  },
  {
   "cell_type": "markdown",
   "metadata": {},
   "source": [
    "Trimming results:\n",
    "Input Read Pairs: 455876\n",
    "- Both Surviving: 446259 (97.89%)\n",
    "- Forward Only Surviving: 9216 (2.02%)\n",
    "- Reverse Only Surviving: 273 (0.06%)\n",
    "- Dropped: 128 (0.03%)"
   ]
  },
  {
   "cell_type": "markdown",
   "metadata": {},
   "source": [
    "### Step 5. Aligning sequences to reference"
   ]
  },
  {
   "cell_type": "code",
   "execution_count": null,
   "metadata": {},
   "outputs": [],
   "source": [
    "%%bash\n",
    "bwa index GCF_000005845.2_ASM584v2_genomic.fna.gz > reference.bwaindex.log # indexing the reference genome\n",
    "mkdir align\n",
    "bwa mem GCF_000005845.2_ASM584v2_genomic.fna.gz trimmed/output_amp_res_1_paired.fastq trimmed/output_amp_res_2_paired.fastq > align/alignment.sam # reads alignement on the reference\n"
   ]
  },
  {
   "cell_type": "code",
   "execution_count": null,
   "metadata": {},
   "outputs": [],
   "source": [
    "!samtools view -S -b align/alignment.sam > align/alignment.bam # convert .sam format to .bam format\n",
    "!samtools sort align/alignment.bam -o align/alignment.sorted.bam # sorting of bam file by sequence coordinate on reference\n",
    "!samtools index align/alignment.sorted.bam # index bam file for faster search"
   ]
  },
  {
   "cell_type": "code",
   "execution_count": null,
   "metadata": {},
   "outputs": [],
   "source": [
    "%%bash\n",
    "samtools flagstat align/alignment.bam #basic statistics"
   ]
  },
  {
   "cell_type": "markdown",
   "metadata": {},
   "source": [
    "  892776 + 0 in total (QC-passed reads + QC-failed reads)\n",
    "  \n",
    "  891649 + 0 mapped (99.87% : N/A)\n",
    "  \n",
    "  888554 + 0 properly paired (99.56% : N/A)"
   ]
  },
  {
   "cell_type": "markdown",
   "metadata": {},
   "source": [
    "### Step 6. Variant calling"
   ]
  },
  {
   "cell_type": "markdown",
   "metadata": {},
   "source": [
    "Made mpileup file for variance callig"
   ]
  },
  {
   "cell_type": "code",
   "execution_count": null,
   "metadata": {},
   "outputs": [],
   "source": [
    "!samtools mpileup -f GCF_000005845.2_ASM584v2_genomic.fna align/alignment_sorted.bam > my.mpileup"
   ]
  },
  {
   "cell_type": "markdown",
   "metadata": {},
   "source": [
    "Made variance calling of changes that exists in >= 20% of reads"
   ]
  },
  {
   "cell_type": "code",
   "execution_count": null,
   "metadata": {},
   "outputs": [],
   "source": [
    "!varscan mpileup2snp my.mpileup  --min-var-freq 0.2 --variants --output-vcf 1 > VarScan_results.vcf"
   ]
  },
  {
   "cell_type": "markdown",
   "metadata": {},
   "source": [
    "**Results**\\\n",
    "Only SNPs will be reported\n",
    "\n",
    "Warning: No p-value threshold provided, so p-values will not be calculated\n",
    "\n",
    "Min coverage: 8 \\\n",
    "Min reads2:\t2 \\\n",
    "Min var freq:\t0.2 \\\n",
    "Min avg qual:\t15 \\\n",
    "P-value thresh:\t0.01 \\\n",
    "4641343 bases in pileup file\n",
    "\n",
    "**9 variant positions (6 SNP, 3 indel)**\n",
    "\n",
    "**1 were failed by the strand-filter**\n",
    "\n",
    "**5 variant positions reported (5 SNP, 0 indel)**\n"
   ]
  },
  {
   "cell_type": "markdown",
   "metadata": {},
   "source": [
    "### Step 7. Automatic SNP annotation"
   ]
  },
  {
   "cell_type": "markdown",
   "metadata": {},
   "source": [
    "Downloaded reference annotation from GenBank"
   ]
  },
  {
   "cell_type": "code",
   "execution_count": null,
   "metadata": {},
   "outputs": [],
   "source": [
    "!wget https://ftp.ncbi.nlm.nih.gov/genomes/all/GCF/000/005/845/GCF_000005845.2_ASM584v2/GCF_000005845.2_ASM584v2_genomic.gbff.gz"
   ]
  },
  {
   "cell_type": "markdown",
   "metadata": {},
   "source": [
    "Database creation for automatic annotation & annotation:\n",
    "1. Create SnpEff.config file and add there just one string: `k12.genome : ecoli_K12`"
   ]
  },
  {
   "cell_type": "code",
   "execution_count": 4,
   "metadata": {},
   "outputs": [],
   "source": [
    "! echo \"k12.genome : ecoli_K12\" > snpEff.config"
   ]
  },
  {
   "cell_type": "markdown",
   "metadata": {},
   "source": [
    "2. Create folder for the database"
   ]
  },
  {
   "cell_type": "code",
   "execution_count": null,
   "metadata": {},
   "outputs": [],
   "source": [
    "!mkdir -p data/k12"
   ]
  },
  {
   "cell_type": "markdown",
   "metadata": {},
   "source": [
    "3. Put there my .gbk file (unzip and rename to genes.gbk)"
   ]
  },
  {
   "cell_type": "code",
   "execution_count": null,
   "metadata": {},
   "outputs": [],
   "source": [
    "%%bash\n",
    "gunzip GCF_000005845.2_ASM584v2_genomic.gbff.gz\n",
    "cp GCF_000005845.2_ASM584v2_genomic.gbff data/k12/genes.gbk"
   ]
  },
  {
   "cell_type": "markdown",
   "metadata": {},
   "source": [
    "4. Create database [Instruction how to build a database from GenBank file](http://pcingola.github.io/SnpEff/snpeff/build_db/#step-2-option-2-building-a-database-from-genbank-files)"
   ]
  },
  {
   "cell_type": "code",
   "execution_count": null,
   "metadata": {},
   "outputs": [],
   "source": [
    "!snpEff build -genbank -v k12"
   ]
  },
  {
   "cell_type": "markdown",
   "metadata": {},
   "source": [
    "5. Annotate"
   ]
  },
  {
   "cell_type": "code",
   "execution_count": null,
   "metadata": {},
   "outputs": [],
   "source": [
    "!snpEff ann k12 VarScan_results.vcf > VarScan_results_annotated.vcf"
   ]
  }
 ],
 "metadata": {
  "kernelspec": {
   "display_name": "bioinf",
   "language": "python",
   "name": "python3"
  },
  "language_info": {
   "codemirror_mode": {
    "name": "ipython",
    "version": 3
   },
   "file_extension": ".py",
   "mimetype": "text/x-python",
   "name": "python",
   "nbconvert_exporter": "python",
   "pygments_lexer": "ipython3",
   "version": "3.6.15"
  }
 },
 "nbformat": 4,
 "nbformat_minor": 2
}
