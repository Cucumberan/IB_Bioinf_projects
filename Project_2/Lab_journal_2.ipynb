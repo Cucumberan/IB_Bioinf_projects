{
 "cells": [
  {
   "cell_type": "markdown",
   "metadata": {},
   "source": [
    "# What causes antibiotic resistance?\n",
    "\n",
    "**Project 2.**\\\n",
    "Lab journal by Anna Ogurtsova\n",
    "\n",
    "---"
   ]
  },
  {
   "cell_type": "markdown",
   "metadata": {},
   "source": [
    "### Before starting\n",
    "Some tools are needed for analysis. You should download and install following tools (it is recommended to use venv (conda, mamba etc.) before installing):\n",
    "\n",
    "* EntrezDirect ```conda install -c bioconda entrez-direct``` (version 16.2 was used)\n",
    "* BWA ```sudo apt-get install bwa``` (Version: 0.7.17-r1188 was used)\n",
    "* SAMTOOLS ```sudo apt-get install samtools``` (samtools 1.13 was used)\n",
    "* Desktop version of IGV - https://igv.org/doc/desktop/\n",
    "* BCFtools ```sudo apt install bcftools``` (bcftools 1.13 was used)\n",
    "* SRA Toolkit [Download link](https://github.com/ncbi/sra-tools/wiki/01.-Downloading-SRA-Toolkit) (version 3.0.7 was used)\n",
    "* Snakemake ```sudo apt -y install snakemake``` (Version: 6.15.1 was used)    \n",
    "* Snakefile\n",
    "* R [Install instruction](https://linux.how2shout.com/how-to-install-r-base-ubuntu-22-04-lts-jammy/) (version 4.3.1 was used)"
   ]
  },
  {
   "cell_type": "markdown",
   "metadata": {},
   "source": [
    "### 1. Run Snakefile"
   ]
  },
  {
   "cell_type": "code",
   "execution_count": null,
   "metadata": {},
   "outputs": [],
   "source": [
    "!snakemake --cores 12 --config sample=SRR1705851 id=KF848938.1 freq=0.001 -p KF848938.1.SRR1705851.varscan.0.001.csv\n",
    "!snakemake --cores 12 --config sample=SRR1705858 id=KF848938.1 freq=0.001 -p KF848938.1.SRR1705858.varscan.0.001.csv\n",
    "!snakemake --cores 12 --config sample=SRR1705859 id=KF848938.1 freq=0.001 -p KF848938.1.SRR1705859.varscan.0.001.csv\n",
    "!snakemake --cores 12 --config sample=SRR1705860 id=KF848938.1 freq=0.001 -p KF848938.1.SRR1705860.varscan.0.001.csv"
   ]
  },
  {
   "cell_type": "markdown",
   "metadata": {},
   "source": [
    "### 2. Calculate the average frequencies and standard deviation of detected variants"
   ]
  },
  {
   "cell_type": "code",
   "execution_count": null,
   "metadata": {},
   "outputs": [],
   "source": [
    "%%R\n",
    "library(dplyr)\n",
    "control_1 <- read.csv('KF848938.1.SRR1705858.varscan.0.001.csv')\n",
    "control_2 <- read.csv('KF848938.1.SRR1705859.varscan.0.001.csv')\n",
    "control_3 <- read.csv('KF848938.1.SRR1705860.varscan.0.001.csv')\n",
    "roommate <- read.csv('KF848938.1.SRR1705851.varscan.0.001.csv')\n",
    "\n",
    "names(control_1) <- c(\"sample\", 'position', 'ref_base', 'alt_base', 'frequency')\n",
    "names(control_2) <- c(\"sample\", 'position', 'ref_base', 'alt_base', 'frequency')\n",
    "names(control_3) <- c(\"sample\", 'position', 'ref_base', 'alt_base', 'frequency')\n",
    "names(roommate) <- c(\"sample\", 'position', 'ref_base', 'alt_base', 'frequency')\n",
    "\n",
    "mean1 <- mean(control_1$frequency)\n",
    "mean2 <- mean(control_2$frequency)\n",
    "mean3 <- mean(control_3$frequency)\n",
    "\n",
    "\n",
    "sd1 <- sd(control_1$frequency)\n",
    "sd2 <- sd(control_2$frequency)\n",
    "sd3 <- sd(control_3$frequency)\n",
    "\n",
    "mean_roommate <- mean(roommate$frequency)"
   ]
  },
  {
   "cell_type": "markdown",
   "metadata": {},
   "source": [
    "### 3. Search for rare mutations that aren't sequencing errors"
   ]
  },
  {
   "cell_type": "code",
   "execution_count": null,
   "metadata": {},
   "outputs": [],
   "source": [
    "%%R\n",
    "mean(roommate$frequency)\n",
    "\n",
    "total_mean <- (mean1+mean2+mean3)/3\n",
    "mean_sd <- mean(c(sd1,sd2,sd3))\n",
    "\n",
    "lower_border <- total_mean-3*mean_sd\n",
    "upper_border <- total_mean+3*mean_sd\n",
    "\n",
    "chosen_mutations <- roommate %>% filter (frequency > upper_border)\n",
    "print(chosen_mutations)"
   ]
  },
  {
   "cell_type": "markdown",
   "metadata": {},
   "source": [
    "*output*\n",
    "\n",
    "```\n",
    "             sample position ref_base alt_base frequency\n",
    "KF848938.1    5         307       C        T     0.94\n",
    "KF848938.1   21        1458       T        C     0.84\n",
    "```"
   ]
  }
 ],
 "metadata": {
  "kernelspec": {
   "display_name": "Python 3",
   "language": "python",
   "name": "python3"
  },
  "language_info": {
   "codemirror_mode": {
    "name": "ipython",
    "version": 3
   },
   "file_extension": ".py",
   "mimetype": "text/x-python",
   "name": "python",
   "nbconvert_exporter": "python",
   "pygments_lexer": "ipython3",
   "version": "3.10.12"
  }
 },
 "nbformat": 4,
 "nbformat_minor": 2
}
